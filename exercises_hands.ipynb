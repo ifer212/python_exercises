{
 "cells": [
  {
   "cell_type": "markdown",
   "metadata": {},
   "source": [
    "## Hands exercise\n",
    "----\n",
    "\n",
    "If both hands are up or if neither hands are up, we win. Everything else we lose.\n",
    "\n",
    "Return true if we win."
   ]
  },
  {
   "cell_type": "code",
   "execution_count": 1,
   "metadata": {},
   "outputs": [
    {
     "name": "stdout",
     "output_type": "stream",
     "text": [
      "True\n",
      "True\n",
      "False\n",
      "False\n"
     ]
    }
   ],
   "source": [
    "def hands_up(left_hand, right_hand):\n",
    "    if left_hand == True and right_hand == True:\n",
    "        return True\n",
    "    elif left_hand == False and right_hand == False:\n",
    "        return True\n",
    "    else:\n",
    "        return False\n",
    "\n",
    "print(hands_up(True, True)) # True\n",
    "print(hands_up(False, False)) # True\n",
    "print(hands_up(True, False)) # False\n",
    "print(hands_up(False, True)) # False"
   ]
  },
  {
   "cell_type": "code",
   "execution_count": 2,
   "metadata": {},
   "outputs": [
    {
     "name": "stdout",
     "output_type": "stream",
     "text": [
      "True\n",
      "True\n",
      "False\n",
      "False\n"
     ]
    }
   ],
   "source": [
    "# Condensing it into one liner\n",
    "def hands_up(left_hand, right_hand):\n",
    "    return left_hand == right_hand\n",
    "\n",
    "print(hands_up(True, True)) # True\n",
    "print(hands_up(False, False)) # True\n",
    "print(hands_up(True, False)) # False\n",
    "print(hands_up(False, True)) # False\n"
   ]
  },
  {
   "cell_type": "code",
   "execution_count": null,
   "metadata": {},
   "outputs": [],
   "source": []
  }
 ],
 "metadata": {
  "kernelspec": {
   "display_name": "Python 3.10.4 ('astro')",
   "language": "python",
   "name": "python3"
  },
  "language_info": {
   "codemirror_mode": {
    "name": "ipython",
    "version": 3
   },
   "file_extension": ".py",
   "mimetype": "text/x-python",
   "name": "python",
   "nbconvert_exporter": "python",
   "pygments_lexer": "ipython3",
   "version": "3.10.4"
  },
  "orig_nbformat": 4,
  "vscode": {
   "interpreter": {
    "hash": "5bf36ebc38dff7303d27c52cd9a479a7a6fef5b4e379093d0951e5cf3826780d"
   }
  }
 },
 "nbformat": 4,
 "nbformat_minor": 2
}
