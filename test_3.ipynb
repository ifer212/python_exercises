{
 "cells": [
  {
   "cell_type": "markdown",
   "metadata": {},
   "source": [
    "Maria Artichokes\n",
    "Descripción del desafío de programación:\n",
    "You are an analyst at Maria Artichokes(MA). As with any company, MA has had some very good times as well as some bad ones. You are responsible for conducting trending analysis of the stock prices for MA, and you want to determine the largest decline in stock prices over various time spans. For example, if over a span of time the stock prices were 19, 12, 13, 11, 20 and 14, then the largest decline would be 8 between the first and fourth price. If the last price had been 10 instead of 14, then the largest decline would have been 10 between the last two prices. You have done some previous analyses and have found that the stock price over any period of time can be modelled reasonably accurately with the following equation: price(k) = p · (sin(a · k + b) + cos(c · k + d) + 2) Where p, a, b, c and d are constants. You would like you to write a program to determine the largest price decline over a given sequence of prices. The Figure 1 illustrates the price function for the provided sample input. You have to consider the prices only for integer values of k.\n",
    "\n",
    "Entrada:\n",
    "The input consists of a single line containing 6 integers p (1 ≤ p ≤ 1000), a, b, c, d (0 ≤ a, b, c, d ≤ 1000) and n (1 ≤ n ≤ 106 ). The sequence of stock prices to consider is price (1), price (2), . . ., price (n).\n",
    "\n",
    "Salida:\n",
    "Display the maximum decline in the stock prices. If there is no decline, display the number 0. Your output should have an absolute or relative error of at most 10^−6"
   ]
  },
  {
   "cell_type": "code",
   "execution_count": 1,
   "metadata": {},
   "outputs": [
    {
     "name": "stdout",
     "output_type": "stream",
     "text": [
      "The largest decrease is: -104.855110\n",
      "The largest increase is: 112.025143\n",
      "----------------------\n",
      "The largest decrease is: 0.000000\n",
      "The largest increase is: 244.384558\n",
      "----------------------\n"
     ]
    }
   ],
   "source": [
    "import numpy as np\n",
    "from itertools import combinations\n",
    "\n",
    "line1 = '42 1 23 4 8 10' # output -104.855110\n",
    "line2 = '100 7 615 998 801 3' # output 0\n",
    "\n",
    "lines = [line1, line2]\n",
    "\n",
    "\n",
    "def stock_price(k: int, p, a, b, c, d):\n",
    "    return p * (np.sin(a * k + b) + np.cos(c * k + d) + 2)\n",
    "\n",
    "def price_maker(entry):\n",
    "    p, a, b, c, d, n = map(int, entry.split(' '))\n",
    "    # Generating price sequence\n",
    "    prices = []\n",
    "    for k in range(1, n+1):\n",
    "        prices.append(stock_price(k, p, a, b, c, d))\n",
    "    return np.array(prices)\n",
    "\n",
    "def price_differences(prices):\n",
    "    return [t - s for s, t in zip(prices, prices[1:])]\n",
    "\n",
    "def largest_decrease(entry):\n",
    "    prices = price_maker(entry)\n",
    "    largest_change = (prices - np.maximum.accumulate(prices)).min()\n",
    "    return largest_change\n",
    "    \n",
    "def largest_increase(entry):\n",
    "    prices = price_maker(entry)\n",
    "    largest_change = (prices - np.minimum.accumulate(prices)).max()\n",
    "    return largest_change\n",
    "\n",
    "for line in lines:\n",
    "    p, a, b, c, d, n = line.split(' ')\n",
    "    big_decrease = largest_decrease(line)\n",
    "    big_increase = largest_increase(line)\n",
    "    print(f'The largest decrease is: {big_decrease:1.6f}')\n",
    "    print(f'The largest increase is: {big_increase:1.6f}')\n",
    "    print('----------------------')"
   ]
  },
  {
   "cell_type": "code",
   "execution_count": null,
   "metadata": {},
   "outputs": [],
   "source": []
  },
  {
   "cell_type": "code",
   "execution_count": null,
   "metadata": {},
   "outputs": [],
   "source": []
  }
 ],
 "metadata": {
  "kernelspec": {
   "display_name": "Python 3.10.4 ('astro')",
   "language": "python",
   "name": "python3"
  },
  "language_info": {
   "codemirror_mode": {
    "name": "ipython",
    "version": 3
   },
   "file_extension": ".py",
   "mimetype": "text/x-python",
   "name": "python",
   "nbconvert_exporter": "python",
   "pygments_lexer": "ipython3",
   "version": "3.10.4"
  },
  "orig_nbformat": 4,
  "vscode": {
   "interpreter": {
    "hash": "5bf36ebc38dff7303d27c52cd9a479a7a6fef5b4e379093d0951e5cf3826780d"
   }
  }
 },
 "nbformat": 4,
 "nbformat_minor": 2
}
