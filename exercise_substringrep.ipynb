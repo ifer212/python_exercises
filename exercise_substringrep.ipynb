{
 "cells": [
  {
   "cell_type": "markdown",
   "metadata": {},
   "source": [
    "## Exercise substring repetition\n",
    "----\n",
    "\n",
    "Return how many times perk appears in the string.\n",
    "\n",
    "However we will accept anything for the 3rd  letter.\n",
    "e.g. peak would also be accepted."
   ]
  },
  {
   "cell_type": "code",
   "execution_count": 4,
   "metadata": {},
   "outputs": [
    {
     "name": "stdout",
     "output_type": "stream",
     "text": [
      "we\n",
      "ep\n",
      "pe\n",
      "er\n",
      "rk\n",
      "ks\n",
      "sd\n",
      "dd\n",
      "dp\n",
      "pe\n",
      "ea\n",
      "ak\n",
      "k3\n",
      "32\n",
      "2\n",
      "e\n",
      "r\n",
      "k\n",
      "s\n",
      "d\n",
      "d\n",
      "p\n",
      "e\n",
      "a\n",
      "k\n",
      "3\n",
      "2\n"
     ]
    }
   ],
   "source": [
    "word = 'weperksddpeak32'\n",
    "\n",
    "# This finds the \"pe\"\n",
    "for i in range(len(word)):\n",
    "    print(word[i:i+2])\n",
    "    \n",
    "# This finds the \"k\" in every 3rd position\n",
    "for i in range(len(word)-3):\n",
    "    print(word[i+3])\n",
    "    \n",
    "#print(count('weperksddpeak32')) # 2\n",
    "#print(count('pe')) # 0\n",
    "#print(count('pe2ki2kipeelp1pekk')) # 2"
   ]
  },
  {
   "cell_type": "code",
   "execution_count": 5,
   "metadata": {},
   "outputs": [
    {
     "name": "stdout",
     "output_type": "stream",
     "text": [
      "2\n",
      "0\n",
      "2\n"
     ]
    }
   ],
   "source": [
    "def count(word):\n",
    "    # This finds the \"pe\"\n",
    "    #word[i:i+2]\n",
    "    # This finds the \"k\" in every 3rd position\n",
    "    #word[i+3]\n",
    "    \n",
    "    count = 0\n",
    "    # This finds the \"pe\"\n",
    "    for i in range(len(word)-3):\n",
    "        if word[i:i+2] == 'pe' and word[i+3]== 'k':\n",
    "            count +=1\n",
    "    return count\n",
    "        \n",
    "print(count('weperksddpeak32')) # 2\n",
    "print(count('pe')) # 0\n",
    "print(count('pe2ki2kipeelp1pekk')) # 2"
   ]
  },
  {
   "cell_type": "code",
   "execution_count": null,
   "metadata": {},
   "outputs": [],
   "source": []
  }
 ],
 "metadata": {
  "kernelspec": {
   "display_name": "Python 3.9.12 ('base')",
   "language": "python",
   "name": "python3"
  },
  "language_info": {
   "codemirror_mode": {
    "name": "ipython",
    "version": 3
   },
   "file_extension": ".py",
   "mimetype": "text/x-python",
   "name": "python",
   "nbconvert_exporter": "python",
   "pygments_lexer": "ipython3",
   "version": "3.9.12"
  },
  "orig_nbformat": 4,
  "vscode": {
   "interpreter": {
    "hash": "c6dfd0b12a580da36e920175fff4ab1319d27199183cbb0f4982447325ed8d1f"
   }
  }
 },
 "nbformat": 4,
 "nbformat_minor": 2
}
