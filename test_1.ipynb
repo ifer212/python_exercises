{
 "cells": [
  {
   "cell_type": "markdown",
   "metadata": {},
   "source": [
    "## Ejercicio 1\n",
    "----"
   ]
  },
  {
   "cell_type": "markdown",
   "metadata": {},
   "source": [
    "You have probably heard that there is a spectacular stone sculpture featuring four famous U.S. presidents at Mount Rushmore and this monument contains a secret chamber. It can be found behind the head of Abraham Lincoln and was designed to serve as a Hall of Records to store important historical U.S. documents and artifacts. Historians claim that the construction of the hall was halted in 1939 and the uncompleted chamber was left untouched until the late 1990s, but this is not the whole truth. In 1982, a famous archaeologist secretly visited the monument and found that the chamber actually was completed, but it was kept confidential. This seemed suspicious and after some poking around, she found a hidden vault and some documents inside. Unfortunately, these documents did not make any sense. She suspected that they had been written in a code, but she could not decipher them despite all her efforts. Earlier this week she discovered the key to a document that contains a list of translations of letters. Some letters may have more than one translation, and others may have no translation. By repeatedly applying some of these translations to individual letters in the gibberish documents, she might be able to decipher them to yield historical U.S. documents. She needs your help. You are given the possible translations of letters and a list of pairs of original and deciphered words. Your task is to verify whether the words in each pair match. Two words match if they have the same length and if each letter of the first word can be turned into the corresponding letter of the second word by using the available translations zero or more times. Check the attached document for a hint on input and output values with a sample provided on both.\n",
    "\n",
    "Entrada:\n",
    "The first line of input contains two integers m (1 ≤ m ≤ 500) and n (1 ≤ n ≤ 50), where m is the number of translations of letters and n is the number of word pairs. Each of the next m lines contains two distinct space-separated letters a and b, indicating that the letter a can be translated to the letter b. Each ordered pair of letters (a, b) appears at most once. Following this are n lines, each containing a word pair to check. Translations and words use only lowercase letters ‘a’–‘z’, and each word contains at least 1 and at most 50 letters.\n",
    "\n",
    "Salida:\n",
    "For each pair of words, display yes if the two words match, and no otherwise."
   ]
  },
  {
   "cell_type": "markdown",
   "metadata": {},
   "source": [
    "entry1 output: \n",
    "yes\n",
    "no\n",
    "yes"
   ]
  },
  {
   "cell_type": "markdown",
   "metadata": {},
   "source": [
    "entry2 output: yes\n",
    "no\n",
    "no\n",
    "yes\n",
    "yes"
   ]
  },
  {
   "cell_type": "markdown",
   "metadata": {},
   "source": [
    "----\n",
    "\n",
    "try brute force next time"
   ]
  },
  {
   "cell_type": "code",
   "execution_count": 115,
   "metadata": {},
   "outputs": [],
   "source": [
    "import numpy as np\n",
    "import scipy.stats as st\n",
    "import matplotlib.pyplot as plt\n",
    "\n",
    "def input_reader(text):\n",
    "    with open(text) as f:\n",
    "        letter_trans = []\n",
    "        word_trans = []\n",
    "        for l, line in enumerate(f.readlines()):\n",
    "            linea = line.strip().split(' ')\n",
    "            if l == 0:\n",
    "                m, n = linea\n",
    "            elif l <= int(m):\n",
    "                letter_trans.append(linea)\n",
    "            else:\n",
    "                word_trans.append(linea)\n",
    "    return letter_trans, word_trans"
   ]
  },
  {
   "cell_type": "code",
   "execution_count": 121,
   "metadata": {},
   "outputs": [
    {
     "name": "stdout",
     "output_type": "stream",
     "text": [
      "yes\n",
      "yes\n",
      "yes\n",
      "-----\n",
      "yes\n",
      "no\n",
      "no\n",
      "yes\n",
      "yes\n"
     ]
    }
   ],
   "source": [
    "def word_tranlation(text): \n",
    "    letter_trans, word_trans = input_reader(text)\n",
    "    # Checking word translation\n",
    "    for word, trword in word_trans:\n",
    "        trans = [False]*len(trword)\n",
    "        #for l, p in zip(word, trword):\n",
    "        for l, _ in enumerate(word):\n",
    "            for tpair in letter_trans:\n",
    "                if word[l] == trword[l]:\n",
    "                    trans[l] = True\n",
    "                elif word[l] == tpair[0] and trword[l] == tpair[1]:\n",
    "                    trans[l] = True\n",
    "                else:\n",
    "                    # Checking concatenated translations\n",
    "                    contrans = [tpair[1], trword[l]]\n",
    "                    if contrans in letter_trans:\n",
    "                        trans[l] = True\n",
    "        if all(trans):\n",
    "            print('yes')\n",
    "        else:\n",
    "            print('no')\n",
    "\n",
    "text = 'entry1.txt'\n",
    "word_tranlation(text)\n",
    "print('-----')\n",
    "text = 'entry2.txt'\n",
    "word_tranlation(text)"
   ]
  },
  {
   "cell_type": "code",
   "execution_count": null,
   "metadata": {},
   "outputs": [],
   "source": []
  }
 ],
 "metadata": {
  "kernelspec": {
   "display_name": "Python 3.10.4 ('astro')",
   "language": "python",
   "name": "python3"
  },
  "language_info": {
   "codemirror_mode": {
    "name": "ipython",
    "version": 3
   },
   "file_extension": ".py",
   "mimetype": "text/x-python",
   "name": "python",
   "nbconvert_exporter": "python",
   "pygments_lexer": "ipython3",
   "version": "3.10.4"
  },
  "orig_nbformat": 4,
  "vscode": {
   "interpreter": {
    "hash": "5bf36ebc38dff7303d27c52cd9a479a7a6fef5b4e379093d0951e5cf3826780d"
   }
  }
 },
 "nbformat": 4,
 "nbformat_minor": 2
}
