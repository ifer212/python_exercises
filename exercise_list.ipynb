{
 "cells": [
  {
   "cell_type": "markdown",
   "metadata": {},
   "source": [
    "## One liner excersie\n",
    "----\n",
    "\n",
    "You can only use one line of code to make a new list with only names starting with \"a\". \n",
    "Capitalize and add their surname \"Smith\"\n",
    "\n",
    "Input: [\"henry\", \"alex\", \"tim\", \"alison\", \"ariel\"]\n",
    "\n",
    "Output: \"Alex Smith\", \"Alison Smith\", \"Ariel Smoth\""
   ]
  },
  {
   "cell_type": "code",
   "execution_count": 1,
   "metadata": {},
   "outputs": [],
   "source": [
    "names = [\"henry\", \"alex\", \"tim\", \"alison\", \"ariel\"]"
   ]
  },
  {
   "cell_type": "code",
   "execution_count": 2,
   "metadata": {},
   "outputs": [
    {
     "name": "stdout",
     "output_type": "stream",
     "text": [
      "['alex', 'alison', 'ariel']\n"
     ]
    }
   ],
   "source": [
    "# Filer\n",
    "# The first part is a function and the second part is something to iterate over\n",
    "a = filter(lambda name: name[0] == 'a', names)\n",
    "print(list(a))"
   ]
  },
  {
   "cell_type": "code",
   "execution_count": 5,
   "metadata": {},
   "outputs": [
    {
     "name": "stdout",
     "output_type": "stream",
     "text": [
      "['Alex Smith', 'Alison Smith', 'Ariel Smith']\n"
     ]
    }
   ],
   "source": [
    "# Capitalize\n",
    "# Map function the first part is a function and the second something to iterate over again\n",
    "b = map(lambda x: x.capitalize() + \" Smith\", filter(lambda name: name[0] == 'a', names))\n",
    "print(list(b))"
   ]
  },
  {
   "cell_type": "code",
   "execution_count": 6,
   "metadata": {},
   "outputs": [
    {
     "name": "stdout",
     "output_type": "stream",
     "text": [
      "Alex Smith, Alison Smith, Ariel Smith\n"
     ]
    }
   ],
   "source": [
    "# Puting all together in one line\n",
    "print(\", \".join(map(lambda x: x.capitalize() + \" Smith\", filter(lambda name: name[0] == 'a', names))))\n"
   ]
  },
  {
   "cell_type": "code",
   "execution_count": null,
   "metadata": {},
   "outputs": [],
   "source": []
  }
 ],
 "metadata": {
  "kernelspec": {
   "display_name": "Python 3.10.4 ('astro')",
   "language": "python",
   "name": "python3"
  },
  "language_info": {
   "codemirror_mode": {
    "name": "ipython",
    "version": 3
   },
   "file_extension": ".py",
   "mimetype": "text/x-python",
   "name": "python",
   "nbconvert_exporter": "python",
   "pygments_lexer": "ipython3",
   "version": "3.10.4"
  },
  "orig_nbformat": 4,
  "vscode": {
   "interpreter": {
    "hash": "5bf36ebc38dff7303d27c52cd9a479a7a6fef5b4e379093d0951e5cf3826780d"
   }
  }
 },
 "nbformat": 4,
 "nbformat_minor": 2
}
