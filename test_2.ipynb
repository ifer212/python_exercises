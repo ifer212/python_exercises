{
 "cells": [
  {
   "cell_type": "markdown",
   "metadata": {},
   "source": [
    "Descripción del desafío de programación:\n",
    "You are given two strings as input, check if they are anagrams or not.\n",
    "\n",
    "Entrada:\n",
    "Input the two strings, then create an array for both. Now, traverse both the strings and store the count of the alphabets of both the strings in respective arrays. Then check if both the arrays are equal.\n",
    "\n",
    "Salida:\n",
    "If both the arrays are equal, return \"The strings are anagrams\". Else, return \"\"The strings are not anagrams ."
   ]
  },
  {
   "cell_type": "code",
   "execution_count": 1,
   "metadata": {},
   "outputs": [],
   "source": [
    "import sys\n",
    "import numpy as np\n",
    "# import pandas as pd\n",
    "# from sklearn import ...\n"
   ]
  },
  {
   "cell_type": "code",
   "execution_count": 3,
   "metadata": {},
   "outputs": [
    {
     "data": {
      "text/plain": [
       "'The strings are not anagrams'"
      ]
     },
     "execution_count": 3,
     "metadata": {},
     "output_type": "execute_result"
    }
   ],
   "source": [
    "def letter_counter(word):\n",
    "    # Separating the word by letter\n",
    "    string_list = []\n",
    "    for letter in word:\n",
    "        string_list.append(letter)\n",
    "\n",
    "    # Counting each time a letter appears\n",
    "    string_dict = {}\n",
    "    for letter in string_list:\n",
    "        if letter not in string_dict:\n",
    "            string_dict[letter] = 1\n",
    "        else:\n",
    "            string_dict[letter] = string_dict[letter] + 1\n",
    "\n",
    "    return string_dict\n",
    "\n",
    "def anagram_chek(word1, word2):\n",
    "    w1 = letter_counter(word1)\n",
    "    w2 = letter_counter(word2)\n",
    "    if w1 == w2:\n",
    "        return 'The strings are anagrams'\n",
    "    else:\n",
    "        return 'The strings are not anagrams'\n",
    "    \n",
    "anagram_chek('tear', 'reet')"
   ]
  },
  {
   "cell_type": "markdown",
   "metadata": {},
   "source": []
  }
 ],
 "metadata": {
  "kernelspec": {
   "display_name": "Python 3.10.4 ('astro')",
   "language": "python",
   "name": "python3"
  },
  "language_info": {
   "codemirror_mode": {
    "name": "ipython",
    "version": 3
   },
   "file_extension": ".py",
   "mimetype": "text/x-python",
   "name": "python",
   "nbconvert_exporter": "python",
   "pygments_lexer": "ipython3",
   "version": "3.10.4"
  },
  "orig_nbformat": 4,
  "vscode": {
   "interpreter": {
    "hash": "5bf36ebc38dff7303d27c52cd9a479a7a6fef5b4e379093d0951e5cf3826780d"
   }
  }
 },
 "nbformat": 4,
 "nbformat_minor": 2
}
